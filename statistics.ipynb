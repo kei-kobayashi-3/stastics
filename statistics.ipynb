{
  "nbformat": 4,
  "nbformat_minor": 0,
  "metadata": {
    "colab": {
      "name": "statistics.ipynb",
      "provenance": [],
      "mount_file_id": "1PYwKkcfajFokVWDrgTa2GlPzfHhvEazN",
      "authorship_tag": "ABX9TyMSiMkh3kXQUgusCyNGQYgL",
      "include_colab_link": true
    },
    "kernelspec": {
      "name": "python3",
      "display_name": "Python 3"
    }
  },
  "cells": [
    {
      "cell_type": "markdown",
      "metadata": {
        "id": "view-in-github",
        "colab_type": "text"
      },
      "source": [
        "<a href=\"https://colab.research.google.com/github/kei-kobayashi-3/stastics/blob/main/statistics.ipynb\" target=\"_parent\"><img src=\"https://colab.research.google.com/assets/colab-badge.svg\" alt=\"Open In Colab\"/></a>"
      ]
    },
    {
      "cell_type": "code",
      "metadata": {
        "id": "C1LBDm-cj10g"
      },
      "source": [
        "# Law of Large number Central limit theorem"
      ],
      "execution_count": null,
      "outputs": []
    },
    {
      "cell_type": "code",
      "metadata": {
        "id": "HfE8Lz2Sk06f"
      },
      "source": [
        "import numpy as np\n",
        "import pandas as pd\n",
        "from scipy import stats\n",
        "\n",
        "import statsmodels.formula.api as sfm\n",
        "import statsmodels.api as sm\n",
        "\n",
        "import matplotlib.pyplot as plt\n",
        "import seaborn as sns\n",
        "%matplotlib inline\n",
        "sns.set()"
      ],
      "execution_count": null,
      "outputs": []
    },
    {
      "cell_type": "code",
      "metadata": {
        "id": "0Ts11OVSlfQJ"
      },
      "source": [
        ""
      ],
      "execution_count": null,
      "outputs": []
    },
    {
      "cell_type": "markdown",
      "metadata": {
        "id": "ZnkAczPcll-M"
      },
      "source": [
        "# **大数の法則**\n",
        "大数の法則は「標本の大きさが大きくなるにつれて標本平均が母平均に近づく」というもの"
      ]
    },
    {
      "cell_type": "code",
      "metadata": {
        "id": "02jBFnj1lse5"
      },
      "source": [
        "# 平均4、標準偏差0.8の正規分布を母集団(population)とします"
      ],
      "execution_count": null,
      "outputs": []
    },
    {
      "cell_type": "code",
      "metadata": {
        "id": "9pQSHIEZly-4"
      },
      "source": [
        "population=stats.norm(loc=4,scale=0.8)"
      ],
      "execution_count": null,
      "outputs": []
    },
    {
      "cell_type": "code",
      "metadata": {
        "id": "_TW_fy_1l6fI"
      },
      "source": [
        "# サンプルサイズを指定（10から100100まで100刻み）"
      ],
      "execution_count": null,
      "outputs": []
    },
    {
      "cell_type": "code",
      "metadata": {
        "id": "NZg8bFKzmcgi"
      },
      "source": [
        "n=np.arange(10,100100,100)\n",
        "means=[]\n",
        "np.random.seed(1)\n",
        "for i in n:\n",
        "  num=population.rvs(size=i)\n",
        "  means.append(num.mean())"
      ],
      "execution_count": null,
      "outputs": []
    },
    {
      "cell_type": "code",
      "metadata": {
        "colab": {
          "base_uri": "https://localhost:8080/",
          "height": 289
        },
        "id": "r_riRjolpewt",
        "outputId": "ab19f6be-f12e-452d-f2ea-2c4411b0d8ca"
      },
      "source": [
        "plt.plot(n,means)\n",
        "plt.ylim(3.925,4.1)"
      ],
      "execution_count": null,
      "outputs": [
        {
          "output_type": "execute_result",
          "data": {
            "text/plain": [
              "(3.925, 4.1)"
            ]
          },
          "metadata": {
            "tags": []
          },
          "execution_count": 41
        },
        {
          "output_type": "display_data",
          "data": {
            "image/png": "[encoded data removed]",
            "text/plain": [
              "<Figure size 432x288 with 1 Axes>"
            ]
          },
          "metadata": {
            "tags": []
          }
        }
      ]
    },
    {
      "cell_type": "code",
      "metadata": {
        "colab": {
          "base_uri": "https://localhost:8080/"
        },
        "id": "AZZ5rPNerpr-",
        "outputId": "cbea1d6a-77f0-46b6-a2a0-69ca7ee111ab"
      },
      "source": [
        "means[0]"
      ],
      "execution_count": null,
      "outputs": [
        {
          "output_type": "execute_result",
          "data": {
            "text/plain": [
              "4.590418536583067"
            ]
          },
          "metadata": {
            "tags": []
          },
          "execution_count": 33
        }
      ]
    },
    {
      "cell_type": "code",
      "metadata": {
        "id": "Dxpwcz4Fl7nV"
      },
      "source": [
        "# 計算結果を格納する変数を作成"
      ],
      "execution_count": null,
      "outputs": []
    },
    {
      "cell_type": "code",
      "metadata": {
        "id": "yciW-Hz0l_O-"
      },
      "source": [
        "# 再現性を確保するためにseedを設定"
      ],
      "execution_count": null,
      "outputs": []
    },
    {
      "cell_type": "code",
      "metadata": {
        "id": "eRKQG7ugmECj"
      },
      "source": [
        " #sample_size分だけpolulationからサンプリング　"
      ],
      "execution_count": null,
      "outputs": []
    },
    {
      "cell_type": "code",
      "metadata": {
        "id": "N4A48UVZnHun"
      },
      "source": [
        ""
      ],
      "execution_count": null,
      "outputs": []
    },
    {
      "cell_type": "markdown",
      "metadata": {
        "id": "1oXSASOntb1Z"
      },
      "source": [
        "# **中心極限定理**\n",
        "中心極限定理とは「母集団の分布が何であれ、サンプルサイズが大きい場合には確率変数の和は正規分布に近いものとなる」"
      ]
    },
    {
      "cell_type": "code",
      "metadata": {
        "id": "6SHhEmvbnXl3"
      },
      "source": [
        "# コインを10000回投げた場合に表が出た回数を数える、という試行を50000回繰り返してみましょう。この法則によるならば、結果は正規分布に近いものとなるはずです。"
      ],
      "execution_count": null,
      "outputs": []
    },
    {
      "cell_type": "code",
      "metadata": {
        "id": "UMfTWxHgt4_K"
      },
      "source": [
        "bin=stats.binom(n=10000,p=0.5)\n",
        "sample=bin.rvs(size=50000)"
      ],
      "execution_count": null,
      "outputs": []
    },
    {
      "cell_type": "code",
      "metadata": {
        "colab": {
          "base_uri": "https://localhost:8080/",
          "height": 340
        },
        "id": "TfZyAxSTvFtd",
        "outputId": "539a087a-30b5-412d-f7f3-8541dee44f4d"
      },
      "source": [
        "sns.distplot(sample)"
      ],
      "execution_count": null,
      "outputs": [
        {
          "output_type": "stream",
          "text": [
            "/usr/local/lib/python3.6/dist-packages/seaborn/distributions.py:2557: FutureWarning: `distplot` is a deprecated function and will be removed in a future version. Please adapt your code to use either `displot` (a figure-level function with similar flexibility) or `histplot` (an axes-level function for histograms).\n",
            "  warnings.warn(msg, FutureWarning)\n"
          ],
          "name": "stderr"
        },
        {
          "output_type": "execute_result",
          "data": {
            "text/plain": [
              "<matplotlib.axes._subplots.AxesSubplot at 0x7f547ed7d908>"
            ]
          },
          "metadata": {
            "tags": []
          },
          "execution_count": 51
        },
        {
          "output_type": "display_data",
          "data": {
            "image/png": "[encoded data removed]",
            "text/plain": [
              "<Figure size 432x288 with 1 Axes>"
            ]
          },
          "metadata": {
            "tags": []
          }
        }
      ]
    },
    {
      "cell_type": "code",
      "metadata": {
        "colab": {
          "base_uri": "https://localhost:8080/"
        },
        "id": "az7g015SvnrV",
        "outputId": "3ae7e56e-16e7-46da-d79f-f67a543206de"
      },
      "source": [
        "np.random.choice([0,1,2,3],size=5,replace=True)"
      ],
      "execution_count": null,
      "outputs": [
        {
          "output_type": "execute_result",
          "data": {
            "text/plain": [
              "array([0, 3, 1, 1, 3])"
            ]
          },
          "metadata": {
            "tags": []
          },
          "execution_count": 55
        }
      ]
    },
    {
      "cell_type": "code",
      "metadata": {
        "id": "y4MZD7YNyJ48"
      },
      "source": [
        "# 二項分布とポアソン分布"
      ],
      "execution_count": null,
      "outputs": []
    },
    {
      "cell_type": "code",
      "metadata": {
        "id": "ozlcATulycx3"
      },
      "source": [
        "#成功確率となる事象をn=1000000p=0.00000003回繰り返したとします。この試行を10000回行った場合に成功する回数を数えてみましょう。"
      ],
      "execution_count": null,
      "outputs": []
    },
    {
      "cell_type": "code",
      "metadata": {
        "id": "_o-YX3I-0aKD"
      },
      "source": [
        "np.random.seed(1)"
      ],
      "execution_count": null,
      "outputs": []
    },
    {
      "cell_type": "code",
      "metadata": {
        "id": "HUAG8Upvyjoo"
      },
      "source": [
        "bi=stats.binom(n=100000000,p=0.00000003)"
      ],
      "execution_count": null,
      "outputs": []
    },
    {
      "cell_type": "code",
      "metadata": {
        "id": "kT3_I6TFy2Sx"
      },
      "source": [
        "sample=bi.rvs(size=10000)"
      ],
      "execution_count": null,
      "outputs": []
    },
    {
      "cell_type": "code",
      "metadata": {
        "colab": {
          "base_uri": "https://localhost:8080/",
          "height": 337
        },
        "id": "Gqn91A7Jy9zt",
        "outputId": "062dbd7b-a8cb-4506-850e-707d10ce171a"
      },
      "source": [
        "plt.hist(sample,bins=10)"
      ],
      "execution_count": null,
      "outputs": [
        {
          "output_type": "execute_result",
          "data": {
            "text/plain": [
              "(array([1992., 2233., 2273., 1711.,  986.,  471.,  219.,   80.,   30.,\n",
              "           5.]),\n",
              " array([ 0. ,  1.1,  2.2,  3.3,  4.4,  5.5,  6.6,  7.7,  8.8,  9.9, 11. ]),\n",
              " <a list of 10 Patch objects>)"
            ]
          },
          "metadata": {
            "tags": []
          },
          "execution_count": 72
        },
        {
          "output_type": "display_data",
          "data": {
            "image/png": "[encoded data removed]",
            "text/plain": [
              "<Figure size 432x288 with 1 Axes>"
            ]
          },
          "metadata": {
            "tags": []
          }
        }
      ]
    },
    {
      "cell_type": "code",
      "metadata": {
        "colab": {
          "base_uri": "https://localhost:8080/",
          "height": 337
        },
        "id": "wboAsykazSQ8",
        "outputId": "5c240828-9360-42cc-9d2b-9426102bf588"
      },
      "source": [
        "plt.hist(np.random.binomial(n=100000000,p=0.00000003,size=10000))"
      ],
      "execution_count": null,
      "outputs": [
        {
          "output_type": "execute_result",
          "data": {
            "text/plain": [
              "(array([2023., 2151., 2293., 1661., 1042.,  694.,   96.,   31.,    6.,\n",
              "           3.]),\n",
              " array([ 0. ,  1.2,  2.4,  3.6,  4.8,  6. ,  7.2,  8.4,  9.6, 10.8, 12. ]),\n",
              " <a list of 10 Patch objects>)"
            ]
          },
          "metadata": {
            "tags": []
          },
          "execution_count": 67
        },
        {
          "output_type": "display_data",
          "data": {
            "image/png": "[encoded data removed]",
            "text/plain": [
              "<Figure size 432x288 with 1 Axes>"
            ]
          },
          "metadata": {
            "tags": []
          }
        }
      ]
    },
    {
      "cell_type": "code",
      "metadata": {
        "colab": {
          "base_uri": "https://localhost:8080/"
        },
        "id": "AxPr1D0X0ZqA",
        "outputId": "6724489b-0b53-4004-d88d-3b2ae1c3100a"
      },
      "source": [
        "sample.sum()/len(sample)"
      ],
      "execution_count": null,
      "outputs": [
        {
          "output_type": "execute_result",
          "data": {
            "text/plain": [
              "2.9876"
            ]
          },
          "metadata": {
            "tags": []
          },
          "execution_count": 73
        }
      ]
    },
    {
      "cell_type": "code",
      "metadata": {
        "id": "9gvoG59Gz9nD"
      },
      "source": [
        "# pの値が非常に小さくnの値が大きい二項分布はλ＝npのポアソン分布に従うことが知られていました。次に、この事象がλ＝3のポアソン分布に従うことを確認してみましょう。"
      ],
      "execution_count": null,
      "outputs": []
    },
    {
      "cell_type": "code",
      "metadata": {
        "id": "g05lhOAY0MCX"
      },
      "source": [
        "np.random.seed(1)\n",
        "po=stats.poisson(mu=3)\n",
        "sample=po.rvs(size=10000)"
      ],
      "execution_count": null,
      "outputs": []
    },
    {
      "cell_type": "code",
      "metadata": {
        "colab": {
          "base_uri": "https://localhost:8080/",
          "height": 337
        },
        "id": "Jmc9ZcrX1RHd",
        "outputId": "60bf07b0-a91b-4834-a99b-706939134711"
      },
      "source": [
        "plt.hist(sample)"
      ],
      "execution_count": null,
      "outputs": [
        {
          "output_type": "execute_result",
          "data": {
            "text/plain": [
              "(array([2004., 2258., 2267., 1634., 1006.,  717.,   91.,   15.,    4.,\n",
              "           4.]),\n",
              " array([ 0. ,  1.2,  2.4,  3.6,  4.8,  6. ,  7.2,  8.4,  9.6, 10.8, 12. ]),\n",
              " <a list of 10 Patch objects>)"
            ]
          },
          "metadata": {
            "tags": []
          },
          "execution_count": 76
        },
        {
          "output_type": "display_data",
          "data": {
            "image/png": "[encoded data removed]",
            "text/plain": [
              "<Figure size 432x288 with 1 Axes>"
            ]
          },
          "metadata": {
            "tags": []
          }
        }
      ]
    },
    {
      "cell_type": "code",
      "metadata": {
        "colab": {
          "base_uri": "https://localhost:8080/"
        },
        "id": "h6_tb2MQ1UNf",
        "outputId": "ae5ba3b3-4825-41f2-995b-f2f7a642b131"
      },
      "source": [
        "m=list(range(0,11))\n",
        "m"
      ],
      "execution_count": null,
      "outputs": [
        {
          "output_type": "execute_result",
          "data": {
            "text/plain": [
              "[0, 1, 2, 3, 4, 5, 6, 7, 8, 9, 10]"
            ]
          },
          "metadata": {
            "tags": []
          },
          "execution_count": 78
        }
      ]
    },
    {
      "cell_type": "code",
      "metadata": {
        "id": "_xbM0gdM2_VE"
      },
      "source": [
        "pm=po.pmf(m)"
      ],
      "execution_count": null,
      "outputs": []
    },
    {
      "cell_type": "code",
      "metadata": {
        "colab": {
          "base_uri": "https://localhost:8080/",
          "height": 340
        },
        "id": "tqQUFXL83J8C",
        "outputId": "c5168aa0-99b8-4112-b25a-88943b40b6cb"
      },
      "source": [
        "sns.distplot(sample,bins=m,kde=False,norm_hist=True)\n",
        "plt.plot(m,pm)"
      ],
      "execution_count": null,
      "outputs": [
        {
          "output_type": "stream",
          "text": [
            "/usr/local/lib/python3.6/dist-packages/seaborn/distributions.py:2557: FutureWarning: `distplot` is a deprecated function and will be removed in a future version. Please adapt your code to use either `displot` (a figure-level function with similar flexibility) or `histplot` (an axes-level function for histograms).\n",
            "  warnings.warn(msg, FutureWarning)\n"
          ],
          "name": "stderr"
        },
        {
          "output_type": "execute_result",
          "data": {
            "text/plain": [
              "[<matplotlib.lines.Line2D at 0x7f5472930f60>]"
            ]
          },
          "metadata": {
            "tags": []
          },
          "execution_count": 95
        },
        {
          "output_type": "display_data",
          "data": {
            "image/png": "[encoded data removed]",
            "text/plain": [
              "<Figure size 432x288 with 1 Axes>"
            ]
          },
          "metadata": {
            "tags": []
          }
        }
      ]
    },
    {
      "cell_type": "code",
      "metadata": {
        "id": "d-_0QeeA4rJC"
      },
      "source": [
        ""
      ],
      "execution_count": null,
      "outputs": []
    }
  ]
}