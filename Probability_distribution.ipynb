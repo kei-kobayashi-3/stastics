{
  "nbformat": 4,
  "nbformat_minor": 0,
  "metadata": {
    "colab": {
      "name": "Probability_distribution.ipynb",
      "provenance": [],
      "collapsed_sections": [],
      "authorship_tag": "ABX9TyM5OzmBYPcJlA1CS0Jq2erM",
      "include_colab_link": true
    },
    "kernelspec": {
      "name": "python3",
      "display_name": "Python 3"
    }
  },
  "cells": [
    {
      "cell_type": "markdown",
      "metadata": {
        "id": "view-in-github",
        "colab_type": "text"
      },
      "source": [
        "<a href=\"https://colab.research.google.com/github/kei-kobayashi-3/stastics/blob/main/Probability_distribution.ipynb\" target=\"_parent\"><img src=\"https://colab.research.google.com/assets/colab-badge.svg\" alt=\"Open In Colab\"/></a>"
      ]
    },
    {
      "cell_type": "code",
      "metadata": {
        "id": "4JNfKBTErXHq"
      },
      "source": [
        ""
      ],
      "execution_count": null,
      "outputs": []
    },
    {
      "cell_type": "code",
      "metadata": {
        "id": "k6n-NUwcd_KF"
      },
      "source": [
        "# 二項分布の確率を返す\n",
        "\n",
        "from scipy.special import comb\n",
        "def binomial (N,r,p):\n",
        "  p=comb(N,r,p)*(p**r)*(1-p)**(N-r)\n",
        "  return p"
      ],
      "execution_count": null,
      "outputs": []
    },
    {
      "cell_type": "code",
      "metadata": {
        "id": "XJetM0hKeMdE"
      },
      "source": [
        "# 二項分布の対数尤度を返す (1-1)\n",
        "\n",
        "from scipy.special import comb\n",
        "def likely (N,r,p):\n",
        "  lgL = np.log(comb(N,r)) + r * np.log(p) +(N-r) * np.log(1-p)\n",
        "  return lgL"
      ],
      "execution_count": null,
      "outputs": []
    },
    {
      "cell_type": "code",
      "metadata": {
        "id": "wc-LvwAigJ3Q"
      },
      "source": [
        "# 二項分布の最大対数尤度とその時の確率、全対数尤度を返す (1)\n",
        "\n",
        "def most_likely (N,r):\n",
        "  listed=[]\n",
        "  lis=-1*np.inf\n",
        "  best=0\n",
        "  for i in np.arange(0.01,1,0.01):\n",
        "    like = likely(N,r,i)\n",
        "    listed.append(like)\n",
        "    if like >lis:\n",
        "      lis=like\n",
        "      best=i\n",
        "  return best,lis,listed\n",
        "# best　：　確率　　　　lis : 最大対数尤度　　　listed : 全対数尤度"
      ],
      "execution_count": null,
      "outputs": []
    },
    {
      "cell_type": "code",
      "metadata": {
        "id": "qZ0QWOCY9m1P"
      },
      "source": [
        ""
      ],
      "execution_count": null,
      "outputs": []
    },
    {
      "cell_type": "code",
      "metadata": {
        "id": "p_5zsReWB2KI"
      },
      "source": [
        "# ガンマ分布の確率を返す(a回起きる、単位時間にb回起きる事象が、単位時間のt倍に)\n",
        "\n",
        "from scipy.special import factorial\n",
        "\n",
        "def ganma (a,b,t):\n",
        "  p=(b**a)*(t**(a-1))*(np.e)**(-b*t)\n",
        "  p=p/factorial(a-1)\n",
        "  return p"
      ],
      "execution_count": null,
      "outputs": []
    },
    {
      "cell_type": "code",
      "metadata": {
        "id": "E2LAq3q39nXn"
      },
      "source": [
        "# ポアソン分布の確率を返す\n",
        "\n",
        "from scipy.special import factorial\n",
        "\n",
        "def poisson (k,lam):\n",
        "  p=(lam**k)*(np.e)**(-lam)\n",
        "  p=p/factorial(k)\n",
        "  return p"
      ],
      "execution_count": null,
      "outputs": []
    }
  ]
}